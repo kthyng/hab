{
 "metadata": {
  "name": "HABforecast"
 },
 "nbformat": 3,
 "nbformat_minor": 0,
 "worksheets": [
  {
   "cells": [
    {
     "cell_type": "code",
     "collapsed": false,
     "input": [
      "# Turning on inline plots -- just for use in ipython notebooks.\n",
      "%pylab inline"
     ],
     "language": "python",
     "metadata": {},
     "outputs": [
      {
       "output_type": "stream",
       "stream": "stdout",
       "text": [
        "\n",
        "Welcome to pylab, a matplotlib-based Python environment [backend: module://IPython.zmq.pylab.backend_inline].\n",
        "For more information, type 'help(pylab)'.\n"
       ]
      }
     ],
     "prompt_number": 2
    },
    {
     "cell_type": "markdown",
     "metadata": {},
     "source": [
      "#HAB Forecasting in September 2013\n",
      "###Kristen Thyng, Texas A&M University\n",
      "\n",
      "Lisa Campbell and Darren Henrichs asked me to do some numerical drifter simulations to track some *Karenia brevis* cells that were found near Port Aransas and Surfside. Darren will be out in the area in a boat in September 8th and would like to have a forecast to know where to look for the cells.\n",
      "\n",
      "##Overview\n",
      "I will run simulations using [TracPy](https://github.com/kthyng/tracpy) to seed small groups of numerical drifers near Port Aransas and Surfside from August 26 through August 28th, since that is when cells were seen. These drifters will be stepped forward in time as far as possible at the time, given that the forecasting model can go forward in time 3 days. A full [Gulf of Mexico numerical simulation](http://seawater.tamu.edu/TGLO/) will be used to track the particles.\n",
      "\n",
      "##Particle Tracking\n",
      "Some random noise will be added to the fluxes of the drifters in order to approximate subgrid scale motion (`doturb=1`), with horizontal diffusivity $A_H=20$."
     ]
    },
    {
     "cell_type": "code",
     "collapsed": false,
     "input": [],
     "language": "python",
     "metadata": {},
     "outputs": []
    }
   ],
   "metadata": {}
  }
 ]
}